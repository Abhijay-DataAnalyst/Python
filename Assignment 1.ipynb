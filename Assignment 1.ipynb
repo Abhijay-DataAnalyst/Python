{
 "cells": [
  {
   "cell_type": "markdown",
   "id": "65f9ea09-eaf3-462e-a02d-dd2cbb857077",
   "metadata": {},
   "source": [
    "Ans 1 "
   ]
  },
  {
   "cell_type": "code",
   "execution_count": 2,
   "id": "b06b0e09-4665-4751-9759-2da67d9d8ffe",
   "metadata": {},
   "outputs": [],
   "source": [
    "a = 'Hello'"
   ]
  },
  {
   "cell_type": "code",
   "execution_count": 4,
   "id": "4c692a38-87a3-4d07-a60e-866b586ecec6",
   "metadata": {},
   "outputs": [],
   "source": [
    "b = ['heelo',2.2 , 2 , True]"
   ]
  },
  {
   "cell_type": "code",
   "execution_count": 5,
   "id": "109004e2-aed2-4b62-90bf-ffeecf17bac8",
   "metadata": {},
   "outputs": [],
   "source": [
    "c = 2.2"
   ]
  },
  {
   "cell_type": "code",
   "execution_count": 6,
   "id": "96e33763-263a-4359-9d8b-21b9b94fa433",
   "metadata": {},
   "outputs": [],
   "source": [
    "a = (62,\"PWskills\")"
   ]
  },
  {
   "cell_type": "markdown",
   "id": "4601a047-fa28-4e13-9c7e-dd7015de0dd7",
   "metadata": {},
   "source": [
    "Ans 2"
   ]
  },
  {
   "cell_type": "markdown",
   "id": "5fdaad75-8a00-4a7e-8652-90f9595329af",
   "metadata": {},
   "source": [
    "str"
   ]
  },
  {
   "cell_type": "markdown",
   "id": "86f4a5ba-251c-4b25-a34e-e38fe254f9b3",
   "metadata": {},
   "source": [
    "Str"
   ]
  },
  {
   "cell_type": "code",
   "execution_count": null,
   "id": "7c49bdaf-56a0-4c98-ad9c-b6b4354beec7",
   "metadata": {},
   "outputs": [],
   "source": [
    "List"
   ]
  },
  {
   "cell_type": "code",
   "execution_count": null,
   "id": "05c09a76-2854-40d8-aaca-62145722a653",
   "metadata": {},
   "outputs": [],
   "source": [
    "Int"
   ]
  },
  {
   "cell_type": "markdown",
   "id": "b85d3474-0932-45c5-a4c5-8062b7b4babc",
   "metadata": {},
   "source": [
    "Ans 3"
   ]
  },
  {
   "cell_type": "code",
   "execution_count": 5,
   "id": "c6ba59b9-3809-4d0b-b555-305eac677c96",
   "metadata": {},
   "outputs": [
    {
     "data": {
      "text/plain": [
       "0.6666666666666666"
      ]
     },
     "execution_count": 5,
     "metadata": {},
     "output_type": "execute_result"
    }
   ],
   "source": [
    "2/3"
   ]
  },
  {
   "cell_type": "code",
   "execution_count": 9,
   "id": "5b4352ea-24b5-4553-a4b7-a537b45002c5",
   "metadata": {},
   "outputs": [
    {
     "data": {
      "text/plain": [
       "1"
      ]
     },
     "execution_count": 9,
     "metadata": {},
     "output_type": "execute_result"
    }
   ],
   "source": [
    "9 % 2"
   ]
  },
  {
   "cell_type": "code",
   "execution_count": 11,
   "id": "d0d7ac50-4255-4e55-bb0d-01cd1798706c",
   "metadata": {},
   "outputs": [
    {
     "data": {
      "text/plain": [
       "3"
      ]
     },
     "execution_count": 11,
     "metadata": {},
     "output_type": "execute_result"
    }
   ],
   "source": [
    "7//2"
   ]
  },
  {
   "cell_type": "code",
   "execution_count": 13,
   "id": "446d487b-3526-41af-a2a8-38d5db9fff8b",
   "metadata": {},
   "outputs": [
    {
     "data": {
      "text/plain": [
       "8"
      ]
     },
     "execution_count": 13,
     "metadata": {},
     "output_type": "execute_result"
    }
   ],
   "source": [
    "2**3"
   ]
  },
  {
   "cell_type": "markdown",
   "id": "0f142c75-be3f-4d10-84ab-979fc619a1a5",
   "metadata": {},
   "source": [
    "Ans 4"
   ]
  },
  {
   "cell_type": "code",
   "execution_count": 15,
   "id": "0fb2a9c5-a583-458e-9859-94511179f7a8",
   "metadata": {},
   "outputs": [],
   "source": [
    "b = ['heelo',2.2 , 2 , True , 3+5j , [1234,'one'] , range(6) , 3 , 'PW' , 6.99]"
   ]
  },
  {
   "cell_type": "code",
   "execution_count": 16,
   "id": "0e55338e-bed0-4013-995e-0e03294e9d17",
   "metadata": {},
   "outputs": [
    {
     "data": {
      "text/plain": [
       "10"
      ]
     },
     "execution_count": 16,
     "metadata": {},
     "output_type": "execute_result"
    }
   ],
   "source": [
    "len(b)"
   ]
  },
  {
   "cell_type": "code",
   "execution_count": 18,
   "id": "c98cdfa0-eb4e-4d04-b96b-f7f0e5ff2319",
   "metadata": {},
   "outputs": [
    {
     "name": "stdout",
     "output_type": "stream",
     "text": [
      "<class 'str'>\n",
      "<class 'float'>\n",
      "<class 'int'>\n",
      "<class 'bool'>\n",
      "<class 'complex'>\n",
      "<class 'list'>\n",
      "<class 'range'>\n",
      "<class 'int'>\n",
      "<class 'str'>\n",
      "<class 'float'>\n"
     ]
    }
   ],
   "source": [
    "for i in b:\n",
    "    print (type(i))"
   ]
  },
  {
   "cell_type": "markdown",
   "id": "d17aef51-ed9b-405b-bba3-22b6836e4633",
   "metadata": {},
   "source": [
    "Ans 5"
   ]
  },
  {
   "cell_type": "code",
   "execution_count": 36,
   "id": "aaf542a5-857b-48db-8856-c5696ec09dbc",
   "metadata": {},
   "outputs": [
    {
     "name": "stdout",
     "output_type": "stream",
     "text": [
      "A is divisible by B 2 times\n"
     ]
    }
   ],
   "source": [
    "A = 99\n",
    "B = 3\n",
    "count = 0\n",
    "\n",
    "while A % B == 0: \n",
    "    A = A // B # 33 , 11\n",
    "    count += 1 # 1 , 2\n",
    "\n",
    "print(\"A is divisible by B\", count, \"times\")\n"
   ]
  },
  {
   "cell_type": "code",
   "execution_count": 50,
   "id": "c3be8fb6-0d0d-4980-8327-cf00b60126f2",
   "metadata": {},
   "outputs": [],
   "source": [
    "lis = [1,2,3,4,1,2,21,2,123,123,132,123,123,13,13,132,132,132,123,123,2,12,12,12,21]"
   ]
  },
  {
   "cell_type": "markdown",
   "id": "bc082c76-10aa-4a2d-a254-e1a174d9d2d4",
   "metadata": {},
   "source": [
    "Ans 6"
   ]
  },
  {
   "cell_type": "code",
   "execution_count": 51,
   "id": "55b6e49b-b31b-4f8a-8de4-93826ebda2e1",
   "metadata": {},
   "outputs": [
    {
     "data": {
      "text/plain": [
       "25"
      ]
     },
     "execution_count": 51,
     "metadata": {},
     "output_type": "execute_result"
    }
   ],
   "source": [
    "len(lis)"
   ]
  },
  {
   "cell_type": "code",
   "execution_count": 63,
   "id": "e700b125-06ac-4c2f-9a9c-dfb406d1c645",
   "metadata": {},
   "outputs": [
    {
     "name": "stdout",
     "output_type": "stream",
     "text": [
      "1\n",
      "not divisible\n",
      "2\n",
      "not divisible\n",
      "3\n",
      "divisible\n",
      "4\n",
      "not divisible\n",
      "1\n",
      "not divisible\n",
      "2\n",
      "not divisible\n",
      "21\n",
      "divisible\n",
      "2\n",
      "not divisible\n",
      "123\n",
      "divisible\n",
      "123\n",
      "divisible\n",
      "132\n",
      "divisible\n",
      "123\n",
      "divisible\n",
      "123\n",
      "divisible\n",
      "13\n",
      "not divisible\n",
      "13\n",
      "not divisible\n",
      "132\n",
      "divisible\n",
      "132\n",
      "divisible\n",
      "132\n",
      "divisible\n",
      "123\n",
      "divisible\n",
      "123\n",
      "divisible\n",
      "2\n",
      "not divisible\n",
      "12\n",
      "divisible\n",
      "12\n",
      "divisible\n",
      "12\n",
      "divisible\n",
      "21\n",
      "divisible\n"
     ]
    }
   ],
   "source": [
    "for i in lis:\n",
    "    print (i)\n",
    "    if  i % 3  == 0:\n",
    "        print('divisible')\n",
    "    else:\n",
    "        print('not divisible')"
   ]
  },
  {
   "cell_type": "markdown",
   "id": "18f31415-c9ff-4940-aee5-8d8e27c84af1",
   "metadata": {},
   "source": [
    "Ans 7"
   ]
  },
  {
   "cell_type": "markdown",
   "id": "2b5ff778-4d0c-47be-88be-36cbb0d77043",
   "metadata": {},
   "source": [
    "Mutabale data types are the ones whose values can be changed , Whereas\n",
    "Immutable data types are those whose values cannot be modified once they are assigned.\n",
    "List object type is mutable"
   ]
  },
  {
   "cell_type": "code",
   "execution_count": 65,
   "id": "b336d00b-6417-4ed1-9cb2-2c03e3e4dd16",
   "metadata": {},
   "outputs": [],
   "source": [
    "lis = [1,2,3,4,5,6,7,8, \"M's\"]"
   ]
  },
  {
   "cell_type": "code",
   "execution_count": 66,
   "id": "4d7e28c3-c777-4300-a296-04aa099d8b05",
   "metadata": {},
   "outputs": [],
   "source": [
    "lis[-1]= 9"
   ]
  },
  {
   "cell_type": "code",
   "execution_count": 67,
   "id": "a4446d11-c3b1-4c73-9d28-051ca2709616",
   "metadata": {},
   "outputs": [
    {
     "data": {
      "text/plain": [
       "[1, 2, 3, 4, 5, 6, 7, 8, 9]"
      ]
     },
     "execution_count": 67,
     "metadata": {},
     "output_type": "execute_result"
    }
   ],
   "source": [
    "lis"
   ]
  },
  {
   "cell_type": "code",
   "execution_count": 68,
   "id": "e6431f36-fb73-47b5-823d-168060213121",
   "metadata": {},
   "outputs": [],
   "source": [
    "a = 'PwSkills'"
   ]
  },
  {
   "cell_type": "code",
   "execution_count": 70,
   "id": "f4ef3fdf-17a7-4e21-86c2-64426a5b376c",
   "metadata": {},
   "outputs": [
    {
     "ename": "TypeError",
     "evalue": "'str' object does not support item assignment",
     "output_type": "error",
     "traceback": [
      "\u001b[0;31m---------------------------------------------------------------------------\u001b[0m",
      "\u001b[0;31mTypeError\u001b[0m                                 Traceback (most recent call last)",
      "Cell \u001b[0;32mIn[70], line 1\u001b[0m\n\u001b[0;32m----> 1\u001b[0m \u001b[43ma\u001b[49m\u001b[43m[\u001b[49m\u001b[38;5;241;43m1\u001b[39;49m\u001b[43m]\u001b[49m\u001b[38;5;241m=\u001b[39m \u001b[38;5;124m'\u001b[39m\u001b[38;5;124mp\u001b[39m\u001b[38;5;124m'\u001b[39m\n",
      "\u001b[0;31mTypeError\u001b[0m: 'str' object does not support item assignment"
     ]
    }
   ],
   "source": [
    "a[1]= 'p'"
   ]
  },
  {
   "cell_type": "code",
   "execution_count": null,
   "id": "673a8023-f922-4e89-befc-f6402b23430f",
   "metadata": {},
   "outputs": [],
   "source": []
  }
 ],
 "metadata": {
  "kernelspec": {
   "display_name": "Python 3 (ipykernel)",
   "language": "python",
   "name": "python3"
  },
  "language_info": {
   "codemirror_mode": {
    "name": "ipython",
    "version": 3
   },
   "file_extension": ".py",
   "mimetype": "text/x-python",
   "name": "python",
   "nbconvert_exporter": "python",
   "pygments_lexer": "ipython3",
   "version": "3.10.8"
  }
 },
 "nbformat": 4,
 "nbformat_minor": 5
}
