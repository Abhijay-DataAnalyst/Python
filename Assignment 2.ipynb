{
 "cells": [
  {
   "cell_type": "markdown",
   "id": "b041a476-712d-45ff-9f75-245d05abd92a",
   "metadata": {},
   "source": [
    "Ans 1 "
   ]
  },
  {
   "cell_type": "markdown",
   "id": "9ec68d7b-1ca2-4ce5-baee-b3a8a8136cca",
   "metadata": {},
   "source": [
    "We can comment a code using '#' \n",
    "\n",
    "We can also use \n",
    "''' \n",
    "this type of doc string can be used to store multi line comments\n",
    "this type of doc string can be used to store multi line comments\n",
    "'''"
   ]
  },
  {
   "cell_type": "markdown",
   "id": "1c975924-c499-42a9-8e74-a5f6423f5dcc",
   "metadata": {},
   "source": [
    "Ans 2"
   ]
  },
  {
   "cell_type": "markdown",
   "id": "89f78914-e811-4978-aa05-fb352bc4c971",
   "metadata": {},
   "source": [
    "Variables in python are place holders for a differrent variety of data.\n",
    "for example \n",
    "a = 2 , b = 'variable' , c = [1,23,4,5,6,'seven']\n"
   ]
  },
  {
   "cell_type": "markdown",
   "id": "50d03662-c594-4166-936e-2df26a73ff42",
   "metadata": {},
   "source": [
    "Ans 3"
   ]
  },
  {
   "cell_type": "markdown",
   "id": "262bcad7-c018-4617-879a-a9a64bc16cc5",
   "metadata": {},
   "source": [
    "One data type can be converted into another using what is called type casting\n",
    "a = '1234'\n",
    "type(a)\n",
    "int(a)"
   ]
  },
  {
   "cell_type": "markdown",
   "id": "bfee83b1-8f06-4b44-9223-90044bbf0201",
   "metadata": {},
   "source": [
    "Ans 4 "
   ]
  },
  {
   "cell_type": "markdown",
   "id": "4b3497ef-ffeb-4a1c-93f3-21a066d8964a",
   "metadata": {},
   "source": [
    "We can create a file like print (\"Hello world\") on a simple text file and save it in the .py denotation\n",
    "then we can open the file in the command promt by calling out the file location\n",
    "cd C:\\Users\\<YourUsername>\\Documents\n",
    "Then we can execute the above code when in the right directory by using python command \n",
    "python hello_world.py\n",
    "\n"
   ]
  },
  {
   "cell_type": "markdown",
   "id": "08af345a-a2c6-4283-a826-7f5f87d029c9",
   "metadata": {},
   "source": [
    "Ans 5"
   ]
  },
  {
   "cell_type": "code",
   "execution_count": 9,
   "id": "da6a9efd-2e30-4e69-b6c8-4091be2c8f19",
   "metadata": {},
   "outputs": [],
   "source": [
    "my_list = [1, 2, 3, 4, 5] "
   ]
  },
  {
   "cell_type": "code",
   "execution_count": 12,
   "id": "bcb68ad4-1301-4998-b1a5-37de698a2b9e",
   "metadata": {},
   "outputs": [],
   "source": [
    "sub_list = my_list[1:3] "
   ]
  },
  {
   "cell_type": "code",
   "execution_count": 13,
   "id": "b150e637-1c89-48e2-a6c3-efe55a89a268",
   "metadata": {},
   "outputs": [
    {
     "data": {
      "text/plain": [
       "[2, 3]"
      ]
     },
     "execution_count": 13,
     "metadata": {},
     "output_type": "execute_result"
    }
   ],
   "source": [
    "sub_list"
   ]
  },
  {
   "cell_type": "markdown",
   "id": "f43edaa4-1ab1-4bdd-904b-180467b2918b",
   "metadata": {},
   "source": [
    "Ans 6"
   ]
  },
  {
   "cell_type": "markdown",
   "id": "c31d6e1c-ed9e-4a29-89ec-b843e7aa66c8",
   "metadata": {},
   "source": [
    "In maths , A complex number is a number that can be expressed in the form of\n",
    "a+bi a and b being natural numbers and i being the imaginary number.\n",
    "In python also similar trend is followed 3+2j where 'j' is expressed as imaginary number"
   ]
  },
  {
   "cell_type": "markdown",
   "id": "c7de2dbf-0854-4a73-b17f-cc4104e1ca02",
   "metadata": {},
   "source": [
    "Ans 7 "
   ]
  },
  {
   "cell_type": "code",
   "execution_count": 17,
   "id": "5af5ea08-b976-47c2-99ed-fd0d006fe384",
   "metadata": {},
   "outputs": [
    {
     "name": "stdin",
     "output_type": "stream",
     "text": [
      " 25\n"
     ]
    }
   ],
   "source": [
    "age = int(input())"
   ]
  },
  {
   "cell_type": "markdown",
   "id": "a4e9beff-fdfd-4c58-88f7-66b3b8910f63",
   "metadata": {},
   "source": [
    "Ans 8"
   ]
  },
  {
   "cell_type": "code",
   "execution_count": 18,
   "id": "7867ba33-aae6-4bd2-9190-3bea758b96ee",
   "metadata": {},
   "outputs": [],
   "source": [
    "price = 9.99"
   ]
  },
  {
   "cell_type": "code",
   "execution_count": 19,
   "id": "1e4f3b75-615f-4729-a1e2-61905aa18c42",
   "metadata": {},
   "outputs": [
    {
     "data": {
      "text/plain": [
       "float"
      ]
     },
     "execution_count": 19,
     "metadata": {},
     "output_type": "execute_result"
    }
   ],
   "source": [
    "type(price)"
   ]
  },
  {
   "cell_type": "markdown",
   "id": "d25ebd04-5464-4801-8d22-a81baf46e03b",
   "metadata": {},
   "source": [
    "Therefore the variable price belongs to the data type float"
   ]
  },
  {
   "cell_type": "markdown",
   "id": "a20831b0-0294-4dec-ad25-9e7c9c7d94bd",
   "metadata": {},
   "source": [
    "Ans 9"
   ]
  },
  {
   "cell_type": "code",
   "execution_count": 20,
   "id": "406ec83b-2a4e-4fb8-a638-9c8f2b933d4e",
   "metadata": {},
   "outputs": [],
   "source": [
    "name  = 'Abhijay Daryani'"
   ]
  },
  {
   "cell_type": "code",
   "execution_count": 21,
   "id": "b10b72ca-9b62-4363-b1b2-cc632b641a35",
   "metadata": {},
   "outputs": [
    {
     "data": {
      "text/plain": [
       "'Abhijay Daryani'"
      ]
     },
     "execution_count": 21,
     "metadata": {},
     "output_type": "execute_result"
    }
   ],
   "source": [
    "name"
   ]
  },
  {
   "cell_type": "markdown",
   "id": "43b5b0a7-f680-4004-917a-7fd84dac600a",
   "metadata": {},
   "source": [
    "Ans 10"
   ]
  },
  {
   "cell_type": "code",
   "execution_count": 3,
   "id": "32f2bcc3-ee23-45ec-9514-919e540176bb",
   "metadata": {},
   "outputs": [],
   "source": [
    "a = \"Hello, World!\""
   ]
  },
  {
   "cell_type": "code",
   "execution_count": 6,
   "id": "91f1deb2-47dd-4c19-9b5e-d3516746f1fb",
   "metadata": {},
   "outputs": [
    {
     "data": {
      "text/plain": [
       "'World'"
      ]
     },
     "execution_count": 6,
     "metadata": {},
     "output_type": "execute_result"
    }
   ],
   "source": [
    "a[-6:-1]"
   ]
  },
  {
   "cell_type": "markdown",
   "id": "205e1b86-a8c1-4253-b922-d12b07467a88",
   "metadata": {},
   "source": [
    "Ans 11"
   ]
  },
  {
   "cell_type": "code",
   "execution_count": 7,
   "id": "fda73ec7-2a68-4eef-8a89-7dec5b8a0d95",
   "metadata": {},
   "outputs": [],
   "source": [
    "a = \"is_student\""
   ]
  },
  {
   "cell_type": "code",
   "execution_count": null,
   "id": "4c0cf606-8c1f-44cd-b124-cdedc80d2e71",
   "metadata": {},
   "outputs": [],
   "source": [
    "if a == \"is_student\":\n",
    "    print"
   ]
  }
 ],
 "metadata": {
  "kernelspec": {
   "display_name": "Python 3 (ipykernel)",
   "language": "python",
   "name": "python3"
  },
  "language_info": {
   "codemirror_mode": {
    "name": "ipython",
    "version": 3
   },
   "file_extension": ".py",
   "mimetype": "text/x-python",
   "name": "python",
   "nbconvert_exporter": "python",
   "pygments_lexer": "ipython3",
   "version": "3.10.8"
  }
 },
 "nbformat": 4,
 "nbformat_minor": 5
}
